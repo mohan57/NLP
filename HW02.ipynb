{
 "cells": [
  {
   "cell_type": "markdown",
   "metadata": {},
   "source": [
    "# CS 505 Homework 02:  Data Wrangling and BOW\n",
    "\n",
    "#### Due Thursday  9/21 at midnight (1 minute after 11:59 pm) in Gradescope (with a grace period of 6 hours)\n",
    "#### You may submit the homework up to 24 hours late (with the same grace period) for a penalty of 10%. \n",
    "\n",
    "All homeworks will be scored with a maximum of 100 points; point values are given\n",
    "for individual problems, and if parts of problems do not have point values given, they\n",
    "will be counted equally toward the total for that problem. \n",
    "\n",
    "Note: I strongly recommend you work in **Google Colab** (the free version) to complete homeworks in this class; in addition to (probably) being faster than your laptop, all the necessary libraries will already be available to you, and you don't have to hassle with <code>conda</code>, <code>pip</code>, etc. and resolving problems when the install doesn't work. But it is up to you!   You should go through the necessary tutorials listed on the web site concerning Colab and storing files on a Google Drive. And of course, Dr. Google is always ready to help you resolve your problems. \n",
    "\n",
    "I will post a  \"walk-through\" video ASAP on my <a href=\"https://www.youtube.com/channel/UCfSqNB0yh99yuG4p4nzjPOA\">Youtube Channel</a>. \n",
    "\n",
    "#### Submission Instructions\n",
    "\n",
    "You must complete the homework by editing <b>this notebook</b> and submitting the following two files in Gradescope by the due date and time:\n",
    "\n",
    "  - A file <code>HW02.ipynb</code> (be sure to select <code>Kernel -> Restart and Run All</code> before you submit, to make sure everything works); and\n",
    "  - A file <code>HW02.pdf</code> created from the previous.\n",
    "  \n",
    "  For best results obtaining a clean PDF file on the Mac, select <code>File -> Print Review</code> from the Jupyter window, then choose <code>File-> Print</code> in your browser and then <code>Save as PDF</code>.  Something  similar should be possible on a Windows machine -- just make sure it is readable and no cell contents have been cut off. Make it easy to grade!\n",
    "  \n",
    "The date and time of your submission is the last file you submitted, so if your IPYNB file is submitted on time, but your PDF is late, then your submission is late. "
   ]
  },
  {
   "cell_type": "markdown",
   "metadata": {},
   "source": [
    "## Collaborators (5 pts)\n",
    "\n",
    "Describe briefly but precisely\n",
    "\n",
    "1. Any persons you discussed this homework with and the nature of the discussion;\n",
    "2. Any online resources you consulted and what information you got from those resources; and\n",
    "3. Any AI agents (such as chatGPT or CoPilot) or other applications you used to complete the homework, and the nature of the help you received. \n",
    "\n",
    "A few brief sentences is all that I am looking for here. \n",
    "\n",
    "    - www.geeksforgeeks.com : surfed to understand about lemma and removing special charectors from the text, to create dictionary, to look for Lemma \n",
    "    - www.regular-expressions.info : for understanding word bounderies and look ahhead/ look behind for not removing colons\n",
    "    - chatGPT :  to get an idea on when and how to remove stop words if they are necessary for the text "
   ]
  },
  {
   "cell_type": "markdown",
   "metadata": {},
   "source": [
    "## Overview\n",
    "\n",
    "We are going to practice converting raw (string form) text into a useful data set using the script of *Pirates of the Caribbean: The Curse of the Black Pearl* (2003), the first in a series of PotC movies starring Johnny Depp. The script is part of the `webtext` corpus in NLTK. \n",
    "\n",
    "Under the assumption that we wish to perform an analysis of the words spoken by the characters in the movie, we will convert the text in a series of steps from a raw string of ASCII characters into a dictionary holding a sparse BOW model of the words spoken by two of the main characters, Elizabeth Swann and Jack Sparrow. These dictionaries could be the data set for a classification task, or for creating a vector-space model for each character, which we will study later in the course. For this assignment, you will clean  up, normalize and tokenize the text, create the dictionaries, and then simply print out the most common words spoken by the\n",
    "two characters. \n",
    "\n",
    "Text normalization was covered in lecture on Tuesday 9/12 and the BOW model on Thursday 9/14. Before beginning the assignment, you should \n",
    "consult the following for information on using the Python regular expression library:\n",
    "\n",
    "https://docs.python.org/3/library/re.html\n",
    "\n",
    "Also useful is\n",
    "\n",
    "https://docs.python.org/3/howto/regex.html\n",
    "\n",
    "After reviewing the basic principles of regular expressions (which I will review in my walk-through video), read about the following useful functions:\n",
    "\n",
    "    result = re.split(...)\n",
    "    \n",
    "    result = re.sub(...)\n",
    "    \n",
    "You may ONLY use standard functions from the `re` library for this homework,   and you must\n",
    "perform your normalization starting with the string form of the script assigned below to the variable `pirates_txt`. You may NOT use indices of the string to perform your modifications (e.g., deleting the first line by counting how many characters to remove). \n",
    "\n",
    "The point here is to use regular expressions to do the text wrangling. Don't worry, \n",
    "we shall use the `SpaCy` library later on the course to normalize text for a classification problem set. "
   ]
  },
  {
   "cell_type": "code",
   "execution_count": 1,
   "metadata": {},
   "outputs": [
    {
     "name": "stderr",
     "output_type": "stream",
     "text": [
      "[nltk_data] Downloading package webtext to\n",
      "[nltk_data]     /Users/mohanthota/nltk_data...\n",
      "[nltk_data]   Package webtext is already up-to-date!\n"
     ]
    }
   ],
   "source": [
    "import numpy as np\n",
    "import nltk\n",
    "import re\n",
    "\n",
    "# The first time you will need to download the corpus:\n",
    "\n",
    "nltk.download('webtext')\n",
    "\n",
    "pirates_txt = nltk.corpus.webtext.raw('pirates.txt')"
   ]
  },
  {
   "cell_type": "code",
   "execution_count": 2,
   "metadata": {
    "scrolled": true
   },
   "outputs": [
    {
     "data": {
      "text/plain": [
       "\"PIRATES OF THE CARRIBEAN: DEAD MAN'S CHEST, by Ted Elliott & Terry Rossio\\n[view looking straight down at rolling swells, sound of wind and thunder, then a low heartbeat]\\nScene: PORT ROYAL\\n[teacups on a table in the rain]\\n[sheet music on music stands in the rain]\\n[bouquet of white orchids, Elizabeth sitting in the rain holding the bouquet]\\n[men rowing, men on horseback, to the sound of thunder]\\n[EITC logo on flag blowing in the wind]\\n[many rowboats are entering the harbor]\\n[Elizabeth sitting alone, at a distance]\\n[marines running, kick a door in] \\n[a mule is seen on the left in the barn where the marines enter]\\n[Liz looking over her shoulder]\\n[Elizabeth drops her bouquet]\\n[Will is in manacles, being escorted by red coats]\\nELIZABETH SWANN: Will...!\\n[Elizabeth runs to Will]\\nELIZABETH SWANN: Why is this happening? \\nWILL TURNER: I don't know. You look beautiful.\\nELIZABETH SWANN: I think it's bad luck for the groom to see the bride before the wedding.\\n[marines cross their long axes to bar Go\""
      ]
     },
     "execution_count": 2,
     "metadata": {},
     "output_type": "execute_result"
    }
   ],
   "source": [
    "# raw string form\n",
    "pirates_txt[:1000]"
   ]
  },
  {
   "cell_type": "code",
   "execution_count": 3,
   "metadata": {
    "scrolled": false
   },
   "outputs": [
    {
     "name": "stdout",
     "output_type": "stream",
     "text": [
      "PIRATES OF THE CARRIBEAN: DEAD MAN'S CHEST, by Ted Elliott & Terry Rossio\n",
      "[view looking straight down at rolling swells, sound of wind and thunder, then a low heartbeat]\n",
      "Scene: PORT ROYAL\n",
      "[teacups on a table in the rain]\n",
      "[sheet music on music stands in the rain]\n",
      "[bouquet of white orchids, Elizabeth sitting in the rain holding the bouquet]\n",
      "[men rowing, men on horseback, to the sound of thunder]\n",
      "[EITC logo on flag blowing in the wind]\n",
      "[many rowboats are entering the harbor]\n",
      "[Elizabeth sitting alone, at a distance]\n",
      "[marines running, kick a door in] \n",
      "[a mule is seen on the left in the barn where the marines enter]\n",
      "[Liz looking over her shoulder]\n",
      "[Elizabeth drops her bouquet]\n",
      "[Will is in manacles, being escorted by red coats]\n",
      "ELIZABETH SWANN: Will...!\n",
      "[Elizabeth runs to Will]\n",
      "ELIZABETH SWANN: Why is this happening? \n",
      "WILL TURNER: I don't know. You look beautiful.\n",
      "ELIZABETH SWANN: I think it's bad luck for the groom to see the bride before the wedding.\n",
      "[marines cross their long axes to bar Go\n"
     ]
    }
   ],
   "source": [
    "# printing it shows the formatting\n",
    "print(pirates_txt[:1000])"
   ]
  },
  {
   "cell_type": "markdown",
   "metadata": {},
   "source": [
    "## Problem One (35 points): Cleaning up the lines\n",
    "\n",
    "The first task is to clean up the text so that at the conclusion of\n",
    "this problem, you will have a text with punctuation and extraneous\n",
    "characters removed, and each line consisting of a character's name \n",
    "(human or otherwise), a colon, and a sequence of words, ending in a newline.  \n",
    "(You will keep this as a single string until Problem 3, but we will\n",
    "refer to the \"lines\" spoken by each character -- also, I hope it\n",
    "will not be confusing to speak of (ASCII) characters and characters played\n",
    "by the actors in the script!)\n",
    "\n",
    "\n",
    "### Part 1.A (5 pts)\n",
    "\n",
    "1. Convert the string into all lower-case letters. \n",
    "\n",
    "2. Remove the first line which gives the title and authors. Print out the first 200 characters to show that you have done this. \n",
    "\n",
    "Hint:  Cut everything before the first '\\n', using the 'beginning of string' special character `^` in the regular expression. "
   ]
  },
  {
   "cell_type": "code",
   "execution_count": 4,
   "metadata": {
    "scrolled": false
   },
   "outputs": [
    {
     "name": "stdout",
     "output_type": "stream",
     "text": [
      "[view looking straight down at rolling swells, sound of wind and thunder, then a low heartbeat]\n",
      "scene: port royal\n",
      "[teacups on a table in the rain]\n",
      "[sheet music on music stands in the rain]\n",
      "[bouquet of\n"
     ]
    }
   ],
   "source": [
    "# Your code here\n",
    "pirates_txt_lowered=pirates_txt.lower()\n",
    "pirates_txt_lowered=re.sub(r'^.*?\\n','', pirates_txt_lowered, 1)\n",
    "print(pirates_txt_lowered[:200])"
   ]
  },
  {
   "cell_type": "markdown",
   "metadata": {},
   "source": [
    "### Part 1.B (5 pts)\n",
    "\n",
    "Cut out all the stage directions that are given in square brackets, including the newlines on those lines.  Print out the first 200 characters as proof.  "
   ]
  },
  {
   "cell_type": "code",
   "execution_count": 5,
   "metadata": {
    "scrolled": false
   },
   "outputs": [
    {
     "name": "stdout",
     "output_type": "stream",
     "text": [
      "scene: port royal\n",
      "elizabeth swann: will...!\n",
      "elizabeth swann: why is this happening? \n",
      "will turner: i don't know. you look beautiful.\n",
      "elizabeth swann: i think it's bad luck for the groom to see the brid\n"
     ]
    }
   ],
   "source": [
    "# Your code here\n",
    "pirates_txt_lowered = re.sub(r'\\[.*?\\]\\n', '', pirates_txt_lowered, flags=re.DOTALL)\n",
    "print(pirates_txt_lowered[:200])"
   ]
  },
  {
   "cell_type": "markdown",
   "metadata": {},
   "source": [
    "### Part 1.C (5 pts)\n",
    "\n",
    "Cut out the lines where the 'scene' is specified.  Again, print out the first 200 characters. "
   ]
  },
  {
   "cell_type": "code",
   "execution_count": 6,
   "metadata": {
    "scrolled": false
   },
   "outputs": [
    {
     "name": "stdout",
     "output_type": "stream",
     "text": [
      "elizabeth swann: will...!\n",
      "elizabeth swann: why is this happening? \n",
      "will turner: i don't know. you look beautiful.\n",
      "elizabeth swann: i think it's bad luck for the groom to see the bride before the weddi\n"
     ]
    }
   ],
   "source": [
    "# Your code here\n",
    "pirates_txt_lowered = re.sub(r'^scene:.*?\\n', '', pirates_txt_lowered, flags=re.MULTILINE)\n",
    "print(pirates_txt_lowered[:200])"
   ]
  },
  {
   "cell_type": "markdown",
   "metadata": {},
   "source": [
    "### Part 1.D (20 pts)\n",
    "\n",
    "Now, we still have a lot of punctuation and some miscellaneous odd things occurring in this text, and we need to\n",
    "do further cleaning. But you will have to figure this out for yourself!\n",
    "\n",
    "The main thing to do is to remove punctuation and anything that does not\n",
    "contribute to the goal of making a BOW model for our two characters. \n",
    "\n",
    "But you can't just remove all non-word characters! Make sure you take account of the following:\n",
    "\n",
    "1. You need to keep the character's names at the beginning of the line, so\n",
    "**do not remove the colon after the name** (note that these always occur at the beginning\n",
    "of a line, i.e., at the very beginning or immediately after the newline from the previous line). \n",
    "\n",
    "2. In the next problem we will normalize the words, so **we DON'T want to change\n",
    "anything that might be a word,** such as,\n",
    "\n",
    "           charges    don't     it's    'er   ah-ha      ha-ha-ha-ha-ha     stealin'   \n",
    "     \n",
    "3. After observing the caveats above, **remove all punctuation.** \n",
    "\n",
    "\n",
    "4. There are some places where apparently the transcriber was not sure what the word\n",
    "was and gave alternatives:\n",
    "\n",
    "            weren't/wasn't\n",
    "    \n",
    "    and some places where it is not clear what is intended:\n",
    "\n",
    "            oy /quick\n",
    "            \n",
    "Just treat `/` like ordinary punctuation and replace it by a blank. \n",
    "    \n",
    "5. Finally, there are miscellanous weird things in the text, such as\n",
    "\n",
    "        ###         ?:    \n",
    "        \n",
    "   (and possibly others) which **should be removed.**\n",
    "\n",
    "**How to proceed:** To explore the data, print out the text after the modifications in Parts 1.A -- 1.D:\n",
    "\n",
    "    print(pirates_txt_01)\n",
    "\n",
    "and think about what needs to be removed, paying careful attention to the comments above. (You could use the `Find` function in your browser to flip through various possibilities.) \n",
    "\n",
    "After examining the text, **comment out the `print(pirates_txt_01)` so that we don't\n",
    "have to look at it!** This was just for exploration!\n",
    "\n",
    "The result of your cleaning in this part should be assigned to `pirates_txt_01`. \n",
    "\n",
    "Hint: At this stage, it might be better to **replace substrings with blanks** instead\n",
    "of deleting them (replacing with the empty string) to preserve the separation\n",
    "of words (just in case!).  "
   ]
  },
  {
   "cell_type": "code",
   "execution_count": 7,
   "metadata": {
    "scrolled": true
   },
   "outputs": [],
   "source": [
    "#print(pirates_txt_lowered) just to explore"
   ]
  },
  {
   "cell_type": "markdown",
   "metadata": {},
   "source": [
    "#### Part 1.D.1 (5 pts)\n",
    "\n",
    "Write a short description here of what you removed, giving your reasoning. You must\n",
    "account for at least what is listed above, but you may find other things you\n",
    "want to change. \n",
    "\n",
    "\n",
    "- Removed all the symbols and punctuations that are not apt for the text. To do this , i have given all the possible punctuations and symbols that might occur in the text to check and remove . \n",
    "- there are few cases where '*shine*\" the words had astrids before and after removed it .\n",
    "- in one particular there is ### at the begining . \n",
    "\n",
    "Also print out some portion of the text to show at least some of the changes you have made. "
   ]
  },
  {
   "cell_type": "markdown",
   "metadata": {},
   "source": [
    "#### Part 1.D.2 (15 pts)\n",
    "\n",
    "Write your code in the following cell. The result at the end should\n",
    "be stored in `pirates_txt_01`.  Print out the first 2000 characters. "
   ]
  },
  {
   "cell_type": "code",
   "execution_count": 8,
   "metadata": {
    "scrolled": true
   },
   "outputs": [
    {
     "name": "stdout",
     "output_type": "stream",
     "text": [
      "elizabeth swann: will    \n",
      "elizabeth swann: why is this happening  \n",
      "will turner: i don't know  you look beautiful \n",
      "elizabeth swann: i think it's bad luck for the groom to see the bride before the wedding \n",
      "lord cutler beckett: governor weatherby swann  it's been too long \n",
      "lord cutler beckett: his lord now    actually \n",
      "lord cutler beckett: in fact  i  do   mister mercer  the warrant for the arrest of one william turner \n",
      "lord cutler beckett: oh  is it  that's annoying  my mistake  arrest her \n",
      "elizabeth swann: on what charges \n",
      "will turner: no \n",
      "lord cutler beckett: ah-ha  here's the one for william turner  and i have another one for a mister james norrington  is he present \n",
      "elizabeth swann:  what are the charges  \n",
      "lord cutler beckett: i don't believe that's the answer to the question i asked \n",
      "will turner: lord beckett  in the category of questions  not  answered   \n",
      "elizabeth swann: we are under the jurisdiction of the king's governor of port royal  and you will tell us what we are charged with  \n",
      "lord cutler beckett: for which the punishment  regrettably  is  also  death  perhaps you remember a certain pirate named jack sparrow \n",
      "elizabeth swann:  captain  jack sparrow \n",
      "lord cutler beckett: captain jack sparrow  yes  i thought you might \n",
      "gibbs: fifteen men on a dead man's chest  yo ho ho  and a  bottle  of rum  drink and the devil had done for the rest  yo ho ho  and a  bottle  of rum  ha-ha-ha-ha-ha  \n",
      "jack sparrow: sorry  mate \n",
      "jack sparrow: mind if we make a little side trip  i didn't think so \n",
      "gibbs: not  quite  according to plan \n",
      "jack sparrow: complications arose  ensued  were overcome \n",
      "gibbs: you got what you went in for  then \n",
      "jack sparrow: mm-hmm \n",
      "gibbs: captain  i think the crew  meaning me as well  were expecting something a bit more     shiny   what with the isla de muerta going all pear shaped  reclaimed by the sea  and the treasure with it  \n",
      "leech: and the royal navy chasing us all around the atlantic  \n",
      "marty: and the hurricane  aye \n",
      "crew: aye  aye \n",
      "gibbs: all i\n"
     ]
    }
   ],
   "source": [
    "# Your code here\n",
    "import re\n",
    "empty_set = []\n",
    "for line in pirates_txt_lowered.split('\\n'):\n",
    "    line = re.sub(r'^###|\\?:', ' ', line)\n",
    "    if ':' in line:\n",
    "        char_name, after_colon = line.split(':', 1)\n",
    "        taking_line = char_name + ':'\n",
    "        after_colon = re.sub(r\"(?<![a-zA-Z])[-']|[-'](?![a-zA-Z])|[!\\\"#$%&()*+,.\\/;<>?@[\\\\\\]^_`{|}~]\", ' ', after_colon)\n",
    "        after_colon = re.sub(r'###|\\?:', ' ', after_colon);after_colon = re.sub(r'/', ' ', after_colon)\n",
    "        taking_line += after_colon\n",
    "\n",
    "    else:\n",
    "        taking_line = re.sub(r\"(?<![a-zA-Z])[-']|[-'](?![a-zA-Z])|[!\\\"#$%&()*+,.\\/;<>?@[\\\\\\]^_`{|}~]\", ' ', line)\n",
    "    empty_set.append(taking_line)\n",
    "\n",
    "pirates_txt_01 = '\\n'.join(empty_set)\n",
    "print(pirates_txt_01[:2000])"
   ]
  },
  {
   "cell_type": "code",
   "execution_count": null,
   "metadata": {
    "scrolled": true
   },
   "outputs": [],
   "source": []
  },
  {
   "cell_type": "markdown",
   "metadata": {},
   "source": [
    "## Problem Two (30 points):  Normalizing, Stemming, and Lemmatization\n",
    "\n",
    "In this problem we are going to do **some** normalizing of the words, first of all to\n",
    "normalize certain words with apostrophes, and then performing stemming and lemmatization.\n",
    "We are not intended to be absolutely thorough here, just to try a few obvious\n",
    "possibilities. \n",
    "\n",
    "### Part 2.A Normalizing (15 pts)\n",
    "\n",
    "There are several ways that apostophes (single quotes) are used to\n",
    "compress two words into one (to give a better sense for how they\n",
    "are pronounced, *especially by pirates*):\n",
    "\n",
    "        didn't  =  did not    we've  = we have       there'd  = there would\n",
    "        \n",
    "**Your task:  Find as many examples of these as you can, and replace the\n",
    "compressed word with the two-word phrase it represents.** \n",
    "\n",
    "\n",
    "Note: **Do NOT process any words with `'s`,** as these will be done in the next part. \n",
    "\n",
    "Do NOT simply compile a list of specific examples, but look for general patterns\n",
    "for substitution, for example:\n",
    "\n",
    "              n't =>  _not       've =>  _have       # where _ represents a blank  \n",
    "   \n",
    "\n",
    "Simply find as many examples which seem to\n",
    "have a general rule, and perform those substitutions, putting the result in\n",
    "`pirates_txt_02`. \n",
    "\n",
    "Finally, print out the first 2000 characters. "
   ]
  },
  {
   "cell_type": "code",
   "execution_count": 9,
   "metadata": {
    "scrolled": true
   },
   "outputs": [
    {
     "name": "stdout",
     "output_type": "stream",
     "text": [
      "elizabeth swann: will    \n",
      "elizabeth swann: why is this happening  \n",
      "will turner: i do not know  you look beautiful \n",
      "elizabeth swann: i think it's bad luck for the groom to see the bride before the wedding \n",
      "lord cutler beckett: governor weatherby swann  it's been too long \n",
      "lord cutler beckett: his lord now    actually \n",
      "lord cutler beckett: in fact  i  do   mister mercer  the warrant for the arrest of one william turner \n",
      "lord cutler beckett: oh  is it  that's annoying  my mistake  arrest her \n",
      "elizabeth swann: on what charges \n",
      "will turner: no \n",
      "lord cutler beckett: ah-ha  here's the one for william turner  and i have another one for a mister james norrington  is he present \n",
      "elizabeth swann:  what are the charges  \n",
      "lord cutler beckett: i do not believe that's the answer to the question i asked \n",
      "will turner: lord beckett  in the category of questions  not  answered   \n",
      "elizabeth swann: we are under the jurisdiction of the king's governor of port royal  and you will tell us what we are charged with  \n",
      "lord cutler beckett: for which the punishment  regrettably  is  also  death  perhaps you remember a certain pirate named jack sparrow \n",
      "elizabeth swann:  captain  jack sparrow \n",
      "lord cutler beckett: captain jack sparrow  yes  i thought you might \n",
      "gibbs: fifteen men on a dead man's chest  yo ho ho  and a  bottle  of rum  drink and the devil had done for the rest  yo ho ho  and a  bottle  of rum  ha-ha-ha-ha-ha  \n",
      "jack sparrow: sorry  mate \n",
      "jack sparrow: mind if we make a little side trip  i did not think so \n",
      "gibbs: not  quite  according to plan \n",
      "jack sparrow: complications arose  ensued  were overcome \n",
      "gibbs: you got what you went in for  then \n",
      "jack sparrow: mm-hmm \n",
      "gibbs: captain  i think the crew  meaning me as well  were expecting something a bit more     shiny   what with the isla de muerta going all pear shaped  reclaimed by the sea  and the treasure with it  \n",
      "leech: and the royal navy chasing us all around the atlantic  \n",
      "marty: and the hurricane  aye \n",
      "crew: aye  aye \n",
      "gibbs: al\n"
     ]
    }
   ],
   "source": [
    "# Your code here\n",
    "\n",
    "#went through possible conversion, here are the most i foundout to convert. \n",
    "#pretty much decent conversions keeping the context as it is\n",
    "\n",
    "pirates_txt_02 = re.sub(r\"n't\\b\", \" not\", pirates_txt_01)\n",
    "pirates_txt_02 = re.sub(r\"'ve\\b\", \" have\", pirates_txt_02)\n",
    "pirates_txt_02 = re.sub(r\"(?<![sS])'d\\b\", \" would\", pirates_txt_02)\n",
    "pirates_txt_02 = re.sub(r\"\\bwon't\\b\", \"will not\", pirates_txt_02)\n",
    "#removing 'll as it is a stop word ,but will help preserve charector name \"will\"\n",
    "pirates_txt_02 = re.sub(r\"\\b'll\\b\", \"\", pirates_txt_02)\n",
    "pirates_txt_02 = re.sub(r\"\\b're\\b\", \" are\", pirates_txt_02)\n",
    "pirates_txt_02 = re.sub(r\"\\bi'm\\b\", \"i am\", pirates_txt_02)\n",
    "pirates_txt_02 = re.sub(r\"\\bcap'n\\b\", \"captain\", pirates_txt_02)\n",
    "\n",
    "print(pirates_txt_02[:2000])"
   ]
  },
  {
   "cell_type": "markdown",
   "metadata": {},
   "source": [
    "### Part 2.B  Stemming and Lemmatization (15 pts)\n",
    "\n",
    "#### Stemming\n",
    "\n",
    "There are multiple occurrence of the suffix `'s` in the text, some standing\n",
    "for a two word phrase:\n",
    "    \n",
    "       he's = he is       it's = it is       what's = what is     here's = here is\n",
    "       \n",
    "and some being possessives:\n",
    "\n",
    "       jack's     man's       hangman's\n",
    "       \n",
    "In the first case, the word `is` is very common, and would be removed later\n",
    "when we remove \"stop words\"; in the second, we will assume there is little\n",
    "difference in the BOW model between a noun and its possessive. So we will remove\n",
    "the `'s` from all words. \n",
    "\n",
    "#### Lemmatization\n",
    "\n",
    "There are eight \"official' different forms of the verb 'to be', all of which occur in the text. These must be replaced by the lemma 'be'. (These eight forms do not include modal expressions such as 'will be' or 'would be'.)\n",
    "\n",
    "**Your tasks:**  \n",
    "\n",
    "1. Stem these words by removing all instances of `'s`.  \n",
    "2. Lemmatize all the 8 forms of the verb 'to be' by replacing them by their stem 'be'. Be sure to ONLY replace separate words, not substrings of other words, i.e., don't change 'mistake' to 'mbetake'!\n",
    "3. Put the result in `pirates_txt_02` and print out the first 2000 characters. "
   ]
  },
  {
   "cell_type": "code",
   "execution_count": 10,
   "metadata": {
    "scrolled": true
   },
   "outputs": [
    {
     "name": "stdout",
     "output_type": "stream",
     "text": [
      "elizabeth swann: will    \n",
      "elizabeth swann: why be this happening  \n",
      "will turner: i do not know  you look beautiful \n",
      "elizabeth swann: i think it bad luck for the groom to see the bride before the wedding \n",
      "lord cutler beckett: governor weatherby swann  it be too long \n",
      "lord cutler beckett: his lord now    actually \n",
      "lord cutler beckett: in fact  i  do   mister mercer  the warrant for the arrest of one william turner \n",
      "lord cutler beckett: oh  be it  that annoying  my mistake  arrest her \n",
      "elizabeth swann: on what charges \n",
      "will turner: no \n",
      "lord cutler beckett: ah-ha  here the one for william turner  and i have another one for a mister james norrington  be he present \n",
      "elizabeth swann:  what be the charges  \n",
      "lord cutler beckett: i do not believe that the answer to the question i asked \n",
      "will turner: lord beckett  in the category of questions  not  answered   \n",
      "elizabeth swann: we be under the jurisdiction of the king governor of port royal  and you will tell us what we be charged with  \n",
      "lord cutler beckett: for which the punishment  regrettably  be  also  death  perhaps you remember a certain pirate named jack sparrow \n",
      "elizabeth swann:  captain  jack sparrow \n",
      "lord cutler beckett: captain jack sparrow  yes  i thought you might \n",
      "gibbs: fifteen men on a dead man chest  yo ho ho  and a  bottle  of rum  drink and the devil had done for the rest  yo ho ho  and a  bottle  of rum  ha-ha-ha-ha-ha  \n",
      "jack sparrow: sorry  mate \n",
      "jack sparrow: mind if we make a little side trip  i did not think so \n",
      "gibbs: not  quite  according to plan \n",
      "jack sparrow: complications arose  ensued  be overcome \n",
      "gibbs: you got what you went in for  then \n",
      "jack sparrow: mm-hmm \n",
      "gibbs: captain  i think the crew  meaning me as well  be expecting something a bit more     shiny   what with the isla de muerta going all pear shaped  reclaimed by the sea  and the treasure with it  \n",
      "leech: and the royal navy chasing us all around the atlantic  \n",
      "marty: and the hurricane  aye \n",
      "crew: aye  aye \n",
      "gibbs: all in all  it seems some\n"
     ]
    }
   ],
   "source": [
    "# Your code here\n",
    "pirates_txt_02 = re.sub(r\"'s\\b\", \"\", pirates_txt_02)\n",
    "to_be_forms = [\"am\", \"is\", \"are\", \"was\", \"were\", \"being\", \"been\",\"be\"]\n",
    "for form in to_be_forms:\n",
    "    pirates_txt_02 = re.sub(rf\"\\b{form}\\b\", \"be\", pirates_txt_02)\n",
    "print(pirates_txt_02[:2000])"
   ]
  },
  {
   "cell_type": "markdown",
   "metadata": {},
   "source": [
    "## Problem Three (30 points):  Removing Stop Words, Tokenizing, and Creating the BOW Models\n"
   ]
  },
  {
   "cell_type": "markdown",
   "metadata": {},
   "source": [
    "### 3.A  Removing Stop Words (10 pts)\n",
    "\n",
    "\"Stop words\" are common words which do not give much information about a text, since they occur in almost all texts. There is a standard set of such words which can be\n",
    "accessed through NLTK (notice that these include some with apostrophes, which we\n",
    "will have already removed):"
   ]
  },
  {
   "cell_type": "code",
   "execution_count": 11,
   "metadata": {
    "scrolled": true
   },
   "outputs": [
    {
     "name": "stdout",
     "output_type": "stream",
     "text": [
      "['i', 'me', 'my', 'myself', 'we', 'our', 'ours', 'ourselves', 'you', \"you're\", \"you've\", \"you'll\", \"you'd\", 'your', 'yours', 'yourself', 'yourselves', 'he', 'him', 'his', 'himself', 'she', \"she's\", 'her', 'hers', 'herself', 'it', \"it's\", 'its', 'itself', 'they', 'them', 'their', 'theirs', 'themselves', 'what', 'which', 'who', 'whom', 'this', 'that', \"that'll\", 'these', 'those', 'am', 'is', 'are', 'was', 'were', 'be', 'been', 'being', 'have', 'has', 'had', 'having', 'do', 'does', 'did', 'doing', 'a', 'an', 'the', 'and', 'but', 'if', 'or', 'because', 'as', 'until', 'while', 'of', 'at', 'by', 'for', 'with', 'about', 'against', 'between', 'into', 'through', 'during', 'before', 'after', 'above', 'below', 'to', 'from', 'up', 'down', 'in', 'out', 'on', 'off', 'over', 'under', 'again', 'further', 'then', 'once', 'here', 'there', 'when', 'where', 'why', 'how', 'all', 'any', 'both', 'each', 'few', 'more', 'most', 'other', 'some', 'such', 'no', 'nor', 'not', 'only', 'own', 'same', 'so', 'than', 'too', 'very', 's', 't', 'can', 'will', 'just', 'don', \"don't\", 'should', \"should've\", 'now', 'd', 'll', 'm', 'o', 're', 've', 'y', 'ain', 'aren', \"aren't\", 'couldn', \"couldn't\", 'didn', \"didn't\", 'doesn', \"doesn't\", 'hadn', \"hadn't\", 'hasn', \"hasn't\", 'haven', \"haven't\", 'isn', \"isn't\", 'ma', 'mightn', \"mightn't\", 'mustn', \"mustn't\", 'needn', \"needn't\", 'shan', \"shan't\", 'shouldn', \"shouldn't\", 'wasn', \"wasn't\", 'weren', \"weren't\", 'won', \"won't\", 'wouldn', \"wouldn't\"]\n"
     ]
    },
    {
     "name": "stderr",
     "output_type": "stream",
     "text": [
      "[nltk_data] Downloading package stopwords to\n",
      "[nltk_data]     /Users/mohanthota/nltk_data...\n",
      "[nltk_data]   Package stopwords is already up-to-date!\n"
     ]
    }
   ],
   "source": [
    "import nltk\n",
    "from nltk.corpus import stopwords\n",
    " \n",
    "nltk.download('stopwords')\n",
    "print(stopwords.words('english'))"
   ]
  },
  {
   "cell_type": "markdown",
   "metadata": {},
   "source": [
    "For the first part of this problem, you must **remove all stop words from the\n",
    "text,** and store the result in `pirates_txt_03`. However, since `will` is the name\n",
    "of a character in the script, **do NOT remove the stopword `will`**! Make SURE that you\n",
    "only remove words, and not substrings of larger words, e.g., do not remove\n",
    "all occurrences of the character `i` from the text just because the word `i`\n",
    "is a stop word! Replace stop words with single blanks to preserve the\n",
    "word boundaries. \n",
    "\n",
    "Put your code in the next cell and print out the first 2000 characters. "
   ]
  },
  {
   "cell_type": "code",
   "execution_count": 12,
   "metadata": {
    "scrolled": true
   },
   "outputs": [
    {
     "name": "stdout",
     "output_type": "stream",
     "text": [
      "elizabeth swann: will\n",
      "elizabeth swann:  happening\n",
      "will turner:    know   look beautiful\n",
      "elizabeth swann:  think  bad luck  groom  see  bride  wedding\n",
      "lord cutler beckett: governor weatherby swann     long\n",
      "lord cutler beckett:  lord  actually\n",
      "lord cutler beckett:  fact    mister mercer   warrant  arrest  one william turner\n",
      "lord cutler beckett: oh   annoying   mistake  arrest\n",
      "elizabeth swann:  charges\n",
      "will turner:\n",
      "lord cutler beckett: ah-ha   one  william turner   another one  mister james norrington   present\n",
      "elizabeth swann:     charges\n",
      "lord cutler beckett:    believe   answer  question  asked\n",
      "will turner: lord beckett   category  questions   answered\n",
      "elizabeth swann:    jurisdiction  king governor  port royal   will tell us   charged\n",
      "lord cutler beckett:  punishment  regrettably   also  death  perhaps  remember  certain pirate named jack sparrow\n",
      "elizabeth swann:  captain  jack sparrow\n",
      "lord cutler beckett: captain jack sparrow  yes   thought  might\n",
      "gibbs: fifteen men  dead man chest  yo ho ho   bottle   rum  drink  devil  done  rest  yo ho ho   bottle   rum  ha-ha-ha-ha-ha\n",
      "jack sparrow: sorry  mate\n",
      "jack sparrow: mind  make  little side trip     think\n",
      "gibbs:  quite  according  plan\n",
      "jack sparrow: complications arose  ensued   overcome\n",
      "gibbs:  got  went\n",
      "jack sparrow: mm-hmm\n",
      "gibbs: captain   think  crew  meaning   well   expecting something  bit  shiny     isla de muerta going  pear shaped  reclaimed  sea   treasure\n",
      "leech:  royal navy chasing us  around  atlantic\n",
      "marty:  hurricane  aye\n",
      "crew: aye  aye\n",
      "gibbs:   seems  time since    speck  honest pirating\n",
      "jack sparrow: shiny\n",
      "gibbs: aye  shiny\n",
      "jack sparrow:    feeling   perhaps dear old jack   serving  best interests  captain\n",
      "cotton parrot: awk  walk  plank\n",
      "jack sparrow:    bird say\n",
      "leech:   blame  bird  show us    piece  cloth\n",
      "jack sparrow: ohhh\n",
      "gibbs: know    good\n",
      "jack sparrow:\n",
      "marty:   key\n",
      "jack sparrow:  much  better     drawing   key\n",
      "jack sparrow: gentlemen    keys\n",
      "leech: keys    unlock     things\n",
      "gibbs:  whatever  key \n"
     ]
    }
   ],
   "source": [
    "# Your code here\n",
    "s_words=(stopwords.words('english'))\n",
    "s_words.remove('will')\n",
    "lines = pirates_txt_02.split('\\n')\n",
    "empty_set2 = []\n",
    "for line in lines:\n",
    "    for word in s_words:\n",
    "        line = re.sub(rf\"\\b{word}\\b\\s*\", ' ', line)\n",
    "    #I have again process to remove any charectors like - and ' that have occured after removing the stop words. \n",
    "    #This makes the text more clean , i believe [NOTE : havent removed the ones that occurred between the words]\n",
    "    line = re.sub(r\"(^|\\s)-(|\\s)\", ' ', re.sub(r\"(?<=\\s)'\\s\", ' ', re.sub(r\"\\s'(?=\\s)\", ' ', line)))\n",
    "    empty_set2.append(line.strip())\n",
    "pirates_txt_03 = '\\n'.join(empty_set2)\n",
    "print(pirates_txt_03[:2000])"
   ]
  },
  {
   "cell_type": "markdown",
   "metadata": {},
   "source": [
    "### 3.B  Tokenizing and Creating the BOW Dictionary (20 pts)\n",
    "\n",
    "What we wish to do is to create a BOW model with a dictionary for two characters\n",
    "in the script, `elizabeth swann` and `jack sparrow`. \n",
    "\n",
    "\n",
    "### Part 3.B.1 (2 pts)\n",
    "\n",
    "Using `split(...)`, split the text on the newlines `\\n`\n",
    "to get a list of each line as a string. Print out the first 10 lines.\n"
   ]
  },
  {
   "cell_type": "code",
   "execution_count": 13,
   "metadata": {
    "scrolled": false
   },
   "outputs": [
    {
     "name": "stdout",
     "output_type": "stream",
     "text": [
      "elizabeth swann: will\n",
      "elizabeth swann:  happening\n",
      "will turner:    know   look beautiful\n",
      "elizabeth swann:  think  bad luck  groom  see  bride  wedding\n",
      "lord cutler beckett: governor weatherby swann     long\n",
      "lord cutler beckett:  lord  actually\n",
      "lord cutler beckett:  fact    mister mercer   warrant  arrest  one william turner\n",
      "lord cutler beckett: oh   annoying   mistake  arrest\n",
      "elizabeth swann:  charges\n",
      "will turner:\n"
     ]
    }
   ],
   "source": [
    "# Your code here\n",
    "lines = pirates_txt_03.split('\\n')\n",
    "for line in lines[:10]:\n",
    "    print(line)"
   ]
  },
  {
   "cell_type": "markdown",
   "metadata": {},
   "source": [
    "### Part 3.B.2 (18 pts)\n",
    "\n",
    "Create a dictionary to hold the BOW models for these two characters, \n",
    "each being a `defaultdict` with a default value of 0 (this is a representation of the sparce matrix representing the BOW for the character).\n",
    "\n",
    "Then go through the lines and calculate\n",
    "the frequency of each word spoken by that character. Print out the 20 most common\n",
    "words spoken by each character and the number of times spoken.  \n",
    "\n",
    "Hint: Scan through the lines created in 3.B.1, and just check if the line contains\n",
    "that character's name. Hint: you can use `in` to check if a substring occurs in \n",
    "a string. \n",
    "\n",
    "       'wayne snyder:' in 'wayne snyder: hi there folks!'   =>  True\n",
    "       \n",
    "**In order to make sure you are not finding an instance of the character's name as spoken\n",
    "by another character, be sure to include the colon (that's why we left it there!).** \n",
    "       \n",
    "Then split the line on blanks, and add all but the first two words (the name\n",
    "of the character) to the BOW for that character. If the empty word '' occurs,\n",
    "ignore it (do not add it to the BOW). \n",
    "\n"
   ]
  },
  {
   "cell_type": "code",
   "execution_count": 14,
   "metadata": {},
   "outputs": [],
   "source": [
    "from collections import defaultdict\n",
    "\n",
    "elizabeth_bow = defaultdict(int)\n",
    "jack_bow = defaultdict(int)\n",
    "\n",
    "for line in lines:\n",
    "    if 'elizabeth swann' in line or 'jack sparrow' in line:\n",
    "        words = line.split()[2:] \n",
    "        target_bow = elizabeth_bow if 'elizabeth swann' in line else jack_bow\n",
    "        for word in words:\n",
    "            if word != '':\n",
    "                target_bow[word] += 1\n",
    "\n",
    "#lines : just for exploring"
   ]
  },
  {
   "cell_type": "code",
   "execution_count": 15,
   "metadata": {
    "scrolled": false
   },
   "outputs": [
    {
     "name": "stdout",
     "output_type": "stream",
     "text": [
      "Elizabeth Swann's 20 most common words:\n",
      "will: 18\n",
      "jack: 12\n",
      "know: 7\n",
      "oh: 7\n",
      "want: 6\n",
      "find: 6\n",
      "man: 6\n",
      "good: 5\n",
      "would: 4\n",
      "something: 4\n",
      "chance: 4\n",
      "us: 3\n",
      "sparrow: 3\n",
      "compass: 3\n",
      "give: 3\n",
      "going: 3\n",
      "way: 3\n",
      "yes: 3\n",
      "happening: 2\n",
      "see: 2\n"
     ]
    }
   ],
   "source": [
    "# Elizabeth Swann's BOW (9 pts)\n",
    "\n",
    "# Your code here      \n",
    "print(\"Elizabeth Swann's 20 most common words:\")\n",
    "from operator import itemgetter\n",
    "for word, freq in sorted(elizabeth_bow.items(), key=itemgetter(1), reverse=True)[:20]:\n",
    "    print(f\"{word}: {freq}\")\n"
   ]
  },
  {
   "cell_type": "code",
   "execution_count": 16,
   "metadata": {
    "scrolled": false
   },
   "outputs": [
    {
     "name": "stdout",
     "output_type": "stream",
     "text": [
      "\n",
      "Jack Sparrow's 20 most common words:\n",
      "jack: 27\n",
      "sparrow: 22\n",
      "want: 14\n",
      "captain: 11\n",
      "come: 11\n",
      "know: 10\n",
      "oh: 8\n",
      "will: 8\n",
      "jones: 8\n",
      "ship: 8\n",
      "chest: 8\n",
      "dirt: 8\n",
      "say: 7\n",
      "bugger: 7\n",
      "one: 7\n",
      "love: 7\n",
      "mate: 6\n",
      "key: 6\n",
      "would: 6\n",
      "oy: 6\n"
     ]
    }
   ],
   "source": [
    "# Jack Sparrows's BOW   (9 pts)\n",
    "# Your code here\n",
    "from operator import itemgetter\n",
    "print(\"\\nJack Sparrow's 20 most common words:\")\n",
    "for word, freq in sorted(jack_bow.items(), key=itemgetter(1), reverse=True)[:20]:\n",
    "    print(f\"{word}: {freq}\")\n"
   ]
  },
  {
   "cell_type": "code",
   "execution_count": null,
   "metadata": {},
   "outputs": [],
   "source": []
  }
 ],
 "metadata": {
  "kernelspec": {
   "display_name": "Python 3 (ipykernel)",
   "language": "python",
   "name": "python3"
  },
  "language_info": {
   "codemirror_mode": {
    "name": "ipython",
    "version": 3
   },
   "file_extension": ".py",
   "mimetype": "text/x-python",
   "name": "python",
   "nbconvert_exporter": "python",
   "pygments_lexer": "ipython3",
   "version": "3.10.9"
  }
 },
 "nbformat": 4,
 "nbformat_minor": 4
}
